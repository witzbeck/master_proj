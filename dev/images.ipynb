{
 "cells": [
  {
   "cell_type": "code",
   "execution_count": null,
   "metadata": {},
   "outputs": [],
   "source": [
    "# tables by schema\n",
    "fig, ax = plt.subplots(nrows=1,ncols=1, figsize=(8,6), dpi=800)\n",
    "info_schema = Table(\"LOCAL\", \"main\", \"v_info_schema\")\n",
    "info_schema.df = filter_df(info_schema.df, \"table_catalog\", \"learning\")\n",
    "schemas = list(info_schema.df.loc[:, \"table_schema\"].unique())\n",
    "keep_schemas = [x for x in schemas if x not in [\"pg_catalog\", \"eval2\", \"information_schema\"]]\n",
    "info_schema.df = info_schema.df[info_schema.df.loc[:, \"table_schema\"].apply(lambda x: x in keep_schemas)]\n",
    "infodf = info_schema.df.groupby([\n",
    "    'table_schema', \"table_name\", \"table_type\"\n",
    "]).count().reset_index()\n",
    "sns.histplot(infodf, x=\"table_schema\", hue=\"table_type\", legend=True, ax=ax, multiple=\"stack\")\n",
    "plt.legend(title=\"Type\", labels=[\"View\",\"Table\"])\n",
    "ax.set_title(\"Table Count by Schema\")\n",
    "ax.set_xlabel(\"Schema\")\n",
    "figsave(\"tables_by_schema\")"
   ]
  }
 ],
 "metadata": {
  "language_info": {
   "name": "python"
  },
  "orig_nbformat": 4
 },
 "nbformat": 4,
 "nbformat_minor": 2
}
