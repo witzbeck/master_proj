{
 "cells": [
  {
   "cell_type": "code",
   "execution_count": 1,
   "metadata": {},
   "outputs": [],
   "source": [
    "from tqdm import tqdm\n",
    "\n",
    "from utils.elt_config import (\n",
    "    DataDirectory,\n",
    "    create_all_schemas,\n",
    "    get_all_schemas,\n",
    "    get_cnxn,\n",
    "    get_info_schema_df,\n",
    ")"
   ]
  },
  {
   "cell_type": "code",
   "execution_count": 2,
   "metadata": {},
   "outputs": [
    {
     "data": {
      "text/plain": [
       "<duckdb.duckdb.DuckDBPyConnection at 0x12561a1b0>"
      ]
     },
     "execution_count": 2,
     "metadata": {},
     "output_type": "execute_result"
    }
   ],
   "source": [
    "cnxn = get_cnxn(database=\":memory:\")\n",
    "create_all_schemas(cnxn)"
   ]
  },
  {
   "cell_type": "code",
   "execution_count": 3,
   "metadata": {},
   "outputs": [
    {
     "data": {
      "text/plain": [
       "<duckdb.duckdb.DuckDBPyConnection at 0x12561a1b0>"
      ]
     },
     "execution_count": 3,
     "metadata": {},
     "output_type": "execute_result"
    }
   ],
   "source": [
    "data_dir = DataDirectory()\n",
    "data_dir.queries.load_landing_data(cnxn)"
   ]
  },
  {
   "cell_type": "code",
   "execution_count": 42,
   "metadata": {},
   "outputs": [
    {
     "name": "stdout",
     "output_type": "stream",
     "text": [
      "schemas: {'landing', 'main', 'agg'}\n",
      "columns: Index(['database', 'schema', 'name', 'column_names', 'column_types',\n",
      "       'temporary'],\n",
      "      dtype='object')\n"
     ]
    },
    {
     "data": {
      "text/html": [
       "<div>\n",
       "<style scoped>\n",
       "    .dataframe tbody tr th:only-of-type {\n",
       "        vertical-align: middle;\n",
       "    }\n",
       "\n",
       "    .dataframe tbody tr th {\n",
       "        vertical-align: top;\n",
       "    }\n",
       "\n",
       "    .dataframe thead th {\n",
       "        text-align: right;\n",
       "    }\n",
       "</style>\n",
       "<table border=\"1\" class=\"dataframe\">\n",
       "  <thead>\n",
       "    <tr style=\"text-align: right;\">\n",
       "      <th></th>\n",
       "      <th>schema</th>\n",
       "      <th>name</th>\n",
       "      <th>column_names</th>\n",
       "    </tr>\n",
       "  </thead>\n",
       "  <tbody>\n",
       "    <tr>\n",
       "      <th>0</th>\n",
       "      <td>landing</td>\n",
       "      <td>assessments</td>\n",
       "      <td>[assessment_id, module_code, presentation_code...</td>\n",
       "    </tr>\n",
       "    <tr>\n",
       "      <th>1</th>\n",
       "      <td>landing</td>\n",
       "      <td>courses</td>\n",
       "      <td>[module_code, presentation_code, module_presen...</td>\n",
       "    </tr>\n",
       "    <tr>\n",
       "      <th>2</th>\n",
       "      <td>landing</td>\n",
       "      <td>student_assessment</td>\n",
       "      <td>[student_id, assessment_id, date_submitted, is...</td>\n",
       "    </tr>\n",
       "    <tr>\n",
       "      <th>3</th>\n",
       "      <td>landing</td>\n",
       "      <td>student_info</td>\n",
       "      <td>[student_id, module_code, presentation_code, i...</td>\n",
       "    </tr>\n",
       "    <tr>\n",
       "      <th>4</th>\n",
       "      <td>landing</td>\n",
       "      <td>student_registration</td>\n",
       "      <td>[module_code, presentation_code, student_id, d...</td>\n",
       "    </tr>\n",
       "    <tr>\n",
       "      <th>5</th>\n",
       "      <td>landing</td>\n",
       "      <td>student_vle</td>\n",
       "      <td>[site_id, student_id, module_code, presentatio...</td>\n",
       "    </tr>\n",
       "    <tr>\n",
       "      <th>6</th>\n",
       "      <td>landing</td>\n",
       "      <td>vle</td>\n",
       "      <td>[site_id, module_code, presentation_code, acti...</td>\n",
       "    </tr>\n",
       "    <tr>\n",
       "      <th>7</th>\n",
       "      <td>main</td>\n",
       "      <td>activity_type</td>\n",
       "      <td>[id, activity_type]</td>\n",
       "    </tr>\n",
       "    <tr>\n",
       "      <th>8</th>\n",
       "      <td>main</td>\n",
       "      <td>age_band</td>\n",
       "      <td>[id, age_band]</td>\n",
       "    </tr>\n",
       "    <tr>\n",
       "      <th>9</th>\n",
       "      <td>main</td>\n",
       "      <td>assessment</td>\n",
       "      <td>[assessment_id, course_id, module_id, presenta...</td>\n",
       "    </tr>\n",
       "    <tr>\n",
       "      <th>10</th>\n",
       "      <td>main</td>\n",
       "      <td>assessment_type</td>\n",
       "      <td>[id, assessment_type]</td>\n",
       "    </tr>\n",
       "    <tr>\n",
       "      <th>11</th>\n",
       "      <td>main</td>\n",
       "      <td>course_info</td>\n",
       "      <td>[id, module_id, presentation_id, module_code, ...</td>\n",
       "    </tr>\n",
       "    <tr>\n",
       "      <th>12</th>\n",
       "      <td>main</td>\n",
       "      <td>final_result</td>\n",
       "      <td>[id, final_result]</td>\n",
       "    </tr>\n",
       "    <tr>\n",
       "      <th>13</th>\n",
       "      <td>main</td>\n",
       "      <td>highest_education</td>\n",
       "      <td>[id, highest_education]</td>\n",
       "    </tr>\n",
       "    <tr>\n",
       "      <th>14</th>\n",
       "      <td>main</td>\n",
       "      <td>imd_band</td>\n",
       "      <td>[id, imd_band]</td>\n",
       "    </tr>\n",
       "    <tr>\n",
       "      <th>15</th>\n",
       "      <td>main</td>\n",
       "      <td>module</td>\n",
       "      <td>[id, module_code]</td>\n",
       "    </tr>\n",
       "    <tr>\n",
       "      <th>16</th>\n",
       "      <td>main</td>\n",
       "      <td>presentation</td>\n",
       "      <td>[id, presentation_code]</td>\n",
       "    </tr>\n",
       "    <tr>\n",
       "      <th>17</th>\n",
       "      <td>main</td>\n",
       "      <td>region</td>\n",
       "      <td>[id, region]</td>\n",
       "    </tr>\n",
       "    <tr>\n",
       "      <th>18</th>\n",
       "      <td>main</td>\n",
       "      <td>student_assessment_bridge</td>\n",
       "      <td>[student_id, assessment_id, date_submitted, is...</td>\n",
       "    </tr>\n",
       "    <tr>\n",
       "      <th>19</th>\n",
       "      <td>main</td>\n",
       "      <td>student_info</td>\n",
       "      <td>[id, orig_student_id, course_id, module_id, pr...</td>\n",
       "    </tr>\n",
       "  </tbody>\n",
       "</table>\n",
       "</div>"
      ],
      "text/plain": [
       "     schema                       name  \\\n",
       "0   landing                assessments   \n",
       "1   landing                    courses   \n",
       "2   landing         student_assessment   \n",
       "3   landing               student_info   \n",
       "4   landing       student_registration   \n",
       "5   landing                student_vle   \n",
       "6   landing                        vle   \n",
       "7      main              activity_type   \n",
       "8      main                   age_band   \n",
       "9      main                 assessment   \n",
       "10     main            assessment_type   \n",
       "11     main                course_info   \n",
       "12     main               final_result   \n",
       "13     main          highest_education   \n",
       "14     main                   imd_band   \n",
       "15     main                     module   \n",
       "16     main               presentation   \n",
       "17     main                     region   \n",
       "18     main  student_assessment_bridge   \n",
       "19     main               student_info   \n",
       "\n",
       "                                         column_names  \n",
       "0   [assessment_id, module_code, presentation_code...  \n",
       "1   [module_code, presentation_code, module_presen...  \n",
       "2   [student_id, assessment_id, date_submitted, is...  \n",
       "3   [student_id, module_code, presentation_code, i...  \n",
       "4   [module_code, presentation_code, student_id, d...  \n",
       "5   [site_id, student_id, module_code, presentatio...  \n",
       "6   [site_id, module_code, presentation_code, acti...  \n",
       "7                                 [id, activity_type]  \n",
       "8                                      [id, age_band]  \n",
       "9   [assessment_id, course_id, module_id, presenta...  \n",
       "10                              [id, assessment_type]  \n",
       "11  [id, module_id, presentation_id, module_code, ...  \n",
       "12                                 [id, final_result]  \n",
       "13                            [id, highest_education]  \n",
       "14                                     [id, imd_band]  \n",
       "15                                  [id, module_code]  \n",
       "16                            [id, presentation_code]  \n",
       "17                                       [id, region]  \n",
       "18  [student_id, assessment_id, date_submitted, is...  \n",
       "19  [id, orig_student_id, course_id, module_id, pr...  "
      ]
     },
     "execution_count": 42,
     "metadata": {},
     "output_type": "execute_result"
    }
   ],
   "source": [
    "info_schema_df = get_info_schema_df(cnxn)\n",
    "schemas = set(get_all_schemas(info_schema_df))\n",
    "if \"main\" not in schemas:\n",
    "    schemas.add(\"main\")\n",
    "if \"agg\" not in schemas:\n",
    "    schemas.add(\"agg\")\n",
    "print(\"schemas:\", schemas)\n",
    "print(\"columns:\", info_schema_df.columns)\n",
    "info_schema_df.loc[:, [\"schema\", \"name\", \"column_names\"]].head(20)"
   ]
  },
  {
   "cell_type": "code",
   "execution_count": 45,
   "metadata": {},
   "outputs": [
    {
     "name": "stderr",
     "output_type": "stream",
     "text": [
      " 40%|████      | 37/92 [00:00<00:00, 193.78it/s]"
     ]
    },
    {
     "name": "stdout",
     "output_type": "stream",
     "text": [
      "('02_agg', '01_00_derivative', 'mom_assessments_12.sql')\n"
     ]
    },
    {
     "name": "stderr",
     "output_type": "stream",
     "text": [
      "\n"
     ]
    },
    {
     "ename": "ValueError",
     "evalue": "schema mom not in schemas {'landing', 'main', 'agg'}",
     "output_type": "error",
     "traceback": [
      "\u001b[0;31m---------------------------------------------------------------------------\u001b[0m",
      "\u001b[0;31mValueError\u001b[0m                                Traceback (most recent call last)",
      "Cell \u001b[0;32mIn[45], line 25\u001b[0m\n\u001b[1;32m     23\u001b[0m \u001b[38;5;28;01mif\u001b[39;00m schema \u001b[38;5;129;01mnot\u001b[39;00m \u001b[38;5;129;01min\u001b[39;00m schemas:\n\u001b[1;32m     24\u001b[0m     \u001b[38;5;28mprint\u001b[39m(sql_file\u001b[38;5;241m.\u001b[39mpath\u001b[38;5;241m.\u001b[39mparts[\u001b[38;5;241m-\u001b[39m\u001b[38;5;241m3\u001b[39m:])\n\u001b[0;32m---> 25\u001b[0m     \u001b[38;5;28;01mraise\u001b[39;00m \u001b[38;5;167;01mValueError\u001b[39;00m(\u001b[38;5;124mf\u001b[39m\u001b[38;5;124m\"\u001b[39m\u001b[38;5;124mschema \u001b[39m\u001b[38;5;132;01m{\u001b[39;00mschema\u001b[38;5;132;01m}\u001b[39;00m\u001b[38;5;124m not in schemas \u001b[39m\u001b[38;5;132;01m{\u001b[39;00mschemas\u001b[38;5;132;01m}\u001b[39;00m\u001b[38;5;124m\"\u001b[39m)\n\u001b[1;32m     26\u001b[0m table \u001b[38;5;241m=\u001b[39m \u001b[38;5;124m\"\u001b[39m\u001b[38;5;124m_\u001b[39m\u001b[38;5;124m\"\u001b[39m\u001b[38;5;241m.\u001b[39mjoin(stem_parts[\u001b[38;5;241m1\u001b[39m:])\n\u001b[1;32m     27\u001b[0m obj_type \u001b[38;5;241m=\u001b[39m \u001b[38;5;124m\"\u001b[39m\u001b[38;5;124mVIEW\u001b[39m\u001b[38;5;124m\"\u001b[39m \u001b[38;5;28;01mif\u001b[39;00m table\u001b[38;5;241m.\u001b[39mstartswith(\u001b[38;5;124m\"\u001b[39m\u001b[38;5;124mv_\u001b[39m\u001b[38;5;124m\"\u001b[39m) \u001b[38;5;28;01melse\u001b[39;00m \u001b[38;5;124m\"\u001b[39m\u001b[38;5;124mTABLE\u001b[39m\u001b[38;5;124m\"\u001b[39m\n",
      "\u001b[0;31mValueError\u001b[0m: schema mom not in schemas {'landing', 'main', 'agg'}"
     ]
    }
   ],
   "source": [
    "queries = data_dir.queries\n",
    "\n",
    "for sql_file in tqdm(\n",
    "    sorted(\n",
    "        [\n",
    "            x\n",
    "            for x in queries.allchildfiles\n",
    "            if x.path.suffix == \".sql\" and \"00_landing\" not in x.path.parts\n",
    "        ],\n",
    "        key=lambda x: str(x.path.parent),\n",
    "    )\n",
    "):\n",
    "    sql = sql_file.path.read_text()\n",
    "    upper = sql.upper()\n",
    "    for cmd in [\"CREATE\", \"DROP\", \"INTO\"]:\n",
    "        if cmd in upper:\n",
    "            raise ValueError(f\"{cmd} in SQL {sql_file.path}\")\n",
    "    stem_parts = sql_file.path.stem.split(\"_\")\n",
    "    if len(stem_parts) < 2:\n",
    "        print(sql_file.path.parts[-3:])\n",
    "        raise ValueError(f\"stem {sql_file.path.stem} has less than 2 parts\")\n",
    "    schema = stem_parts[0]\n",
    "    if schema not in schemas:\n",
    "        print(sql_file.path.parts[-3:])\n",
    "        raise ValueError(f\"schema {schema} not in schemas {schemas}\")\n",
    "    table = \"_\".join(stem_parts[1:])\n",
    "    obj_type = \"VIEW\" if table.startswith(\"v_\") else \"TABLE\"\n",
    "    create_sql = f\"CREATE {obj_type} IF NOT EXISTS {schema}.{table} AS {sql}\"\n",
    "    try:\n",
    "        cnxn.execute(create_sql)\n",
    "    except Exception as e:\n",
    "        print(sql_file.path.parts[-3:])\n",
    "        raise e from e"
   ]
  },
  {
   "cell_type": "code",
   "execution_count": null,
   "metadata": {},
   "outputs": [],
   "source": []
  },
  {
   "cell_type": "code",
   "execution_count": null,
   "metadata": {},
   "outputs": [],
   "source": []
  }
 ],
 "metadata": {
  "kernelspec": {
   "display_name": ".venv",
   "language": "python",
   "name": "python3"
  },
  "language_info": {
   "codemirror_mode": {
    "name": "ipython",
    "version": 3
   },
   "file_extension": ".py",
   "mimetype": "text/x-python",
   "name": "python",
   "nbconvert_exporter": "python",
   "pygments_lexer": "ipython3",
   "version": "3.12.3"
  }
 },
 "nbformat": 4,
 "nbformat_minor": 2
}
