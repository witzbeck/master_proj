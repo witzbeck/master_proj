{
 "cells": [
  {
   "cell_type": "code",
   "execution_count": 1,
   "metadata": {},
   "outputs": [],
   "source": [
    "from tqdm import tqdm\n",
    "\n",
    "from alexlib.times import Timer\n",
    "\n",
    "from utils.elt_config import (\n",
    "    DB_PATH,\n",
    "    DataDirectory,\n",
    "    create_all_schemas,\n",
    "    get_all_schemas,\n",
    "    get_cnxn,\n",
    "    get_info_schema_df,\n",
    ")"
   ]
  },
  {
   "cell_type": "code",
   "execution_count": 2,
   "metadata": {},
   "outputs": [
    {
     "data": {
      "text/plain": [
       "<duckdb.duckdb.DuckDBPyConnection at 0x107440b70>"
      ]
     },
     "execution_count": 2,
     "metadata": {},
     "output_type": "execute_result"
    }
   ],
   "source": [
    "cnxn = get_cnxn(database=DB_PATH)\n",
    "create_all_schemas(cnxn)"
   ]
  },
  {
   "cell_type": "code",
   "execution_count": 3,
   "metadata": {},
   "outputs": [
    {
     "data": {
      "text/plain": [
       "<duckdb.duckdb.DuckDBPyConnection at 0x107440b70>"
      ]
     },
     "execution_count": 3,
     "metadata": {},
     "output_type": "execute_result"
    }
   ],
   "source": [
    "data_dir = DataDirectory()\n",
    "data_dir.queries.load_landing_data(cnxn)"
   ]
  },
  {
   "cell_type": "code",
   "execution_count": 7,
   "metadata": {},
   "outputs": [
    {
     "name": "stdout",
     "output_type": "stream",
     "text": [
      "schemas: {'agg', 'landing', 'main'}\n",
      "columns: Index(['database', 'schema', 'name', 'column_names', 'column_types',\n",
      "       'temporary'],\n",
      "      dtype='object')\n"
     ]
    },
    {
     "data": {
      "text/html": [
       "<div>\n",
       "<style scoped>\n",
       "    .dataframe tbody tr th:only-of-type {\n",
       "        vertical-align: middle;\n",
       "    }\n",
       "\n",
       "    .dataframe tbody tr th {\n",
       "        vertical-align: top;\n",
       "    }\n",
       "\n",
       "    .dataframe thead th {\n",
       "        text-align: right;\n",
       "    }\n",
       "</style>\n",
       "<table border=\"1\" class=\"dataframe\">\n",
       "  <thead>\n",
       "    <tr style=\"text-align: right;\">\n",
       "      <th></th>\n",
       "      <th>schema</th>\n",
       "      <th>name</th>\n",
       "      <th>column_names</th>\n",
       "    </tr>\n",
       "  </thead>\n",
       "  <tbody>\n",
       "    <tr>\n",
       "      <th>0</th>\n",
       "      <td>landing</td>\n",
       "      <td>assessments</td>\n",
       "      <td>[assessment_id, code_module, code_presentation...</td>\n",
       "    </tr>\n",
       "    <tr>\n",
       "      <th>1</th>\n",
       "      <td>landing</td>\n",
       "      <td>courses</td>\n",
       "      <td>[code_module, code_presentation, module_presen...</td>\n",
       "    </tr>\n",
       "    <tr>\n",
       "      <th>2</th>\n",
       "      <td>landing</td>\n",
       "      <td>student_assessment</td>\n",
       "      <td>[student_id, assessment_id, date_submitted, is...</td>\n",
       "    </tr>\n",
       "    <tr>\n",
       "      <th>3</th>\n",
       "      <td>landing</td>\n",
       "      <td>student_info</td>\n",
       "      <td>[student_id, code_module, code_presentation, i...</td>\n",
       "    </tr>\n",
       "    <tr>\n",
       "      <th>4</th>\n",
       "      <td>landing</td>\n",
       "      <td>student_registration</td>\n",
       "      <td>[code_module, code_presentation, student_id, d...</td>\n",
       "    </tr>\n",
       "    <tr>\n",
       "      <th>5</th>\n",
       "      <td>landing</td>\n",
       "      <td>student_vle</td>\n",
       "      <td>[site_id, student_id, code_module, code_presen...</td>\n",
       "    </tr>\n",
       "    <tr>\n",
       "      <th>6</th>\n",
       "      <td>landing</td>\n",
       "      <td>vle</td>\n",
       "      <td>[site_id, code_module, code_presentation, acti...</td>\n",
       "    </tr>\n",
       "    <tr>\n",
       "      <th>7</th>\n",
       "      <td>main</td>\n",
       "      <td>activity_type</td>\n",
       "      <td>[id, activity_type]</td>\n",
       "    </tr>\n",
       "    <tr>\n",
       "      <th>8</th>\n",
       "      <td>main</td>\n",
       "      <td>age_band</td>\n",
       "      <td>[id, age_band]</td>\n",
       "    </tr>\n",
       "  </tbody>\n",
       "</table>\n",
       "</div>"
      ],
      "text/plain": [
       "    schema                  name  \\\n",
       "0  landing           assessments   \n",
       "1  landing               courses   \n",
       "2  landing    student_assessment   \n",
       "3  landing          student_info   \n",
       "4  landing  student_registration   \n",
       "5  landing           student_vle   \n",
       "6  landing                   vle   \n",
       "7     main         activity_type   \n",
       "8     main              age_band   \n",
       "\n",
       "                                        column_names  \n",
       "0  [assessment_id, code_module, code_presentation...  \n",
       "1  [code_module, code_presentation, module_presen...  \n",
       "2  [student_id, assessment_id, date_submitted, is...  \n",
       "3  [student_id, code_module, code_presentation, i...  \n",
       "4  [code_module, code_presentation, student_id, d...  \n",
       "5  [site_id, student_id, code_module, code_presen...  \n",
       "6  [site_id, code_module, code_presentation, acti...  \n",
       "7                                [id, activity_type]  \n",
       "8                                     [id, age_band]  "
      ]
     },
     "execution_count": 7,
     "metadata": {},
     "output_type": "execute_result"
    }
   ],
   "source": [
    "info_schema_df = get_info_schema_df(cnxn)\n",
    "schemas = set(get_all_schemas(info_schema_df))\n",
    "if \"main\" not in schemas:\n",
    "    schemas.add(\"main\")\n",
    "if \"agg\" not in schemas:\n",
    "    schemas.add(\"agg\")\n",
    "print(\"schemas:\", schemas)\n",
    "print(\"columns:\", info_schema_df.columns)\n",
    "info_schema_df.loc[:, [\"schema\", \"name\", \"column_names\"]].head(20)"
   ]
  },
  {
   "cell_type": "code",
   "execution_count": null,
   "metadata": {},
   "outputs": [],
   "source": []
  },
  {
   "cell_type": "code",
   "execution_count": 6,
   "metadata": {},
   "outputs": [
    {
     "name": "stderr",
     "output_type": "stream",
     "text": [
      "  2%|▏         | 2/89 [00:00<00:04, 19.15it/s]\n"
     ]
    },
    {
     "name": "stdout",
     "output_type": "stream",
     "text": [
      "0.0 nsng: ('01_main', '00_dimensions', 'main_age_band.sql')\n",
      "0.118 sec ('01_main', '00_dimensions', 'main_activity_type.sql')\n",
      "starting: ('01_main', '00_dimensions', 'main_presentation.sql')\r"
     ]
    },
    {
     "ename": "BinderException",
     "evalue": "Binder Error: Referenced column \"presentation_code\" not found in FROM clause!\nCandidate bindings: \"courses.code_presentation\", \"courses.module_presentation_length\"\nLINE 7: WHERE presentation_code IS NOT NULL\n              ^",
     "output_type": "error",
     "traceback": [
      "\u001b[0;31m---------------------------------------------------------------------------\u001b[0m",
      "\u001b[0;31mBinderException\u001b[0m                           Traceback (most recent call last)",
      "    \u001b[0;31m[... skipping hidden 1 frame]\u001b[0m\n",
      "Cell \u001b[0;32mIn[6], line 31\u001b[0m\n\u001b[1;32m     30\u001b[0m \u001b[38;5;28;01mexcept\u001b[39;00m \u001b[38;5;167;01mException\u001b[39;00m \u001b[38;5;28;01mas\u001b[39;00m e:\n\u001b[0;32m---> 31\u001b[0m     \u001b[38;5;28;01mraise\u001b[39;00m e \u001b[38;5;28;01mfrom\u001b[39;00m \u001b[38;5;21;01me\u001b[39;00m\n\u001b[1;32m     32\u001b[0m timer\u001b[38;5;241m.\u001b[39mlog_from_start()\n",
      "Cell \u001b[0;32mIn[6], line 29\u001b[0m\n\u001b[1;32m     28\u001b[0m \u001b[38;5;28;01mtry\u001b[39;00m:\n\u001b[0;32m---> 29\u001b[0m     \u001b[43mcnxn\u001b[49m\u001b[38;5;241;43m.\u001b[39;49m\u001b[43mexecute\u001b[49m\u001b[43m(\u001b[49m\u001b[43mcreate_sql\u001b[49m\u001b[43m)\u001b[49m\n\u001b[1;32m     30\u001b[0m \u001b[38;5;28;01mexcept\u001b[39;00m \u001b[38;5;167;01mException\u001b[39;00m \u001b[38;5;28;01mas\u001b[39;00m e:\n",
      "\u001b[0;31mBinderException\u001b[0m: Binder Error: Referenced column \"presentation_code\" not found in FROM clause!\nCandidate bindings: \"courses.code_presentation\", \"courses.module_presentation_length\"\nLINE 7: WHERE presentation_code IS NOT NULL\n              ^",
      "\nThe above exception was the direct cause of the following exception:\n",
      "\u001b[0;31mBinderException\u001b[0m                           Traceback (most recent call last)",
      "    \u001b[0;31m[... skipping hidden 1 frame]\u001b[0m\n",
      "Cell \u001b[0;32mIn[6], line 31\u001b[0m\n\u001b[1;32m     30\u001b[0m \u001b[38;5;28;01mexcept\u001b[39;00m \u001b[38;5;167;01mException\u001b[39;00m \u001b[38;5;28;01mas\u001b[39;00m e:\n\u001b[0;32m---> 31\u001b[0m     \u001b[38;5;28;01mraise\u001b[39;00m e \u001b[38;5;28;01mfrom\u001b[39;00m \u001b[38;5;21;01me\u001b[39;00m\n\u001b[1;32m     32\u001b[0m timer\u001b[38;5;241m.\u001b[39mlog_from_start()\n",
      "Cell \u001b[0;32mIn[6], line 29\u001b[0m\n\u001b[1;32m     28\u001b[0m \u001b[38;5;28;01mtry\u001b[39;00m:\n\u001b[0;32m---> 29\u001b[0m     \u001b[43mcnxn\u001b[49m\u001b[38;5;241;43m.\u001b[39;49m\u001b[43mexecute\u001b[49m\u001b[43m(\u001b[49m\u001b[43mcreate_sql\u001b[49m\u001b[43m)\u001b[49m\n\u001b[1;32m     30\u001b[0m \u001b[38;5;28;01mexcept\u001b[39;00m \u001b[38;5;167;01mException\u001b[39;00m \u001b[38;5;28;01mas\u001b[39;00m e:\n",
      "\u001b[0;31mBinderException\u001b[0m: Binder Error: Referenced column \"presentation_code\" not found in FROM clause!\nCandidate bindings: \"courses.code_presentation\", \"courses.module_presentation_length\"\nLINE 7: WHERE presentation_code IS NOT NULL\n              ^",
      "\nThe above exception was the direct cause of the following exception:\n",
      "\u001b[0;31mBinderException\u001b[0m                           Traceback (most recent call last)",
      "Cell \u001b[0;32mIn[6], line 31\u001b[0m\n\u001b[1;32m     29\u001b[0m     cnxn\u001b[38;5;241m.\u001b[39mexecute(create_sql)\n\u001b[1;32m     30\u001b[0m \u001b[38;5;28;01mexcept\u001b[39;00m \u001b[38;5;167;01mException\u001b[39;00m \u001b[38;5;28;01mas\u001b[39;00m e:\n\u001b[0;32m---> 31\u001b[0m     \u001b[38;5;28;01mraise\u001b[39;00m e \u001b[38;5;28;01mfrom\u001b[39;00m \u001b[38;5;21;01me\u001b[39;00m\n\u001b[1;32m     32\u001b[0m timer\u001b[38;5;241m.\u001b[39mlog_from_start()\n",
      "Cell \u001b[0;32mIn[6], line 29\u001b[0m\n\u001b[1;32m     27\u001b[0m create_sql \u001b[38;5;241m=\u001b[39m \u001b[38;5;124mf\u001b[39m\u001b[38;5;124m\"\u001b[39m\u001b[38;5;124mCREATE \u001b[39m\u001b[38;5;132;01m{\u001b[39;00mobj_type\u001b[38;5;132;01m}\u001b[39;00m\u001b[38;5;124m IF NOT EXISTS \u001b[39m\u001b[38;5;132;01m{\u001b[39;00mschema\u001b[38;5;132;01m}\u001b[39;00m\u001b[38;5;124m.\u001b[39m\u001b[38;5;132;01m{\u001b[39;00mtable\u001b[38;5;132;01m}\u001b[39;00m\u001b[38;5;124m AS \u001b[39m\u001b[38;5;132;01m{\u001b[39;00msql\u001b[38;5;132;01m}\u001b[39;00m\u001b[38;5;124m\"\u001b[39m\n\u001b[1;32m     28\u001b[0m \u001b[38;5;28;01mtry\u001b[39;00m:\n\u001b[0;32m---> 29\u001b[0m     \u001b[43mcnxn\u001b[49m\u001b[38;5;241;43m.\u001b[39;49m\u001b[43mexecute\u001b[49m\u001b[43m(\u001b[49m\u001b[43mcreate_sql\u001b[49m\u001b[43m)\u001b[49m\n\u001b[1;32m     30\u001b[0m \u001b[38;5;28;01mexcept\u001b[39;00m \u001b[38;5;167;01mException\u001b[39;00m \u001b[38;5;28;01mas\u001b[39;00m e:\n\u001b[1;32m     31\u001b[0m     \u001b[38;5;28;01mraise\u001b[39;00m e \u001b[38;5;28;01mfrom\u001b[39;00m \u001b[38;5;21;01me\u001b[39;00m\n",
      "\u001b[0;31mBinderException\u001b[0m: Binder Error: Referenced column \"presentation_code\" not found in FROM clause!\nCandidate bindings: \"courses.code_presentation\", \"courses.module_presentation_length\"\nLINE 7: WHERE presentation_code IS NOT NULL\n              ^"
     ]
    }
   ],
   "source": [
    "queries = data_dir.queries\n",
    "timer = Timer()\n",
    "for sql_file in tqdm(\n",
    "    sorted(\n",
    "        [\n",
    "            x\n",
    "            for x in queries.allchildfiles\n",
    "            if x.path.suffix == \".sql\" and \"00_landing\" not in x.path.parts\n",
    "        ],\n",
    "        key=lambda x: str(x.path.parent),\n",
    "    )\n",
    "):\n",
    "    sql = sql_file.path.read_text()\n",
    "    upper = sql.upper()\n",
    "    print(\"starting:\", sql_file.path.parts[-3:], end=\"\\r\")\n",
    "    for cmd in [\"CREATE\", \"DROP\", \"INTO\"]:\n",
    "        if cmd in upper:\n",
    "            raise ValueError(f\"{cmd} in SQL {sql_file.path}\")\n",
    "    stem_parts = sql_file.path.stem.split(\"_\")\n",
    "    if len(stem_parts) < 2:\n",
    "        raise ValueError(f\"stem {sql_file.path.stem} has less than 2 parts\")\n",
    "    schema = stem_parts[0]\n",
    "    if schema not in schemas:\n",
    "        raise ValueError(f\"schema {schema} not in schemas {schemas}\")\n",
    "    table = \"_\".join(stem_parts[1:])\n",
    "    obj_type = \"VIEW\" if table.startswith(\"v_\") else \"TABLE\"\n",
    "    create_sql = f\"CREATE {obj_type} IF NOT EXISTS {schema}.{table} AS {sql}\"\n",
    "    try:\n",
    "        cnxn.execute(create_sql)\n",
    "    except Exception as e:\n",
    "        raise e from e\n",
    "    timer.log_from_start()"
   ]
  },
  {
   "cell_type": "code",
   "execution_count": null,
   "metadata": {},
   "outputs": [],
   "source": []
  },
  {
   "cell_type": "code",
   "execution_count": null,
   "metadata": {},
   "outputs": [],
   "source": []
  }
 ],
 "metadata": {
  "kernelspec": {
   "display_name": ".venv",
   "language": "python",
   "name": "python3"
  },
  "language_info": {
   "codemirror_mode": {
    "name": "ipython",
    "version": 3
   },
   "file_extension": ".py",
   "mimetype": "text/x-python",
   "name": "python",
   "nbconvert_exporter": "python",
   "pygments_lexer": "ipython3",
   "version": "3.12.3"
  }
 },
 "nbformat": 4,
 "nbformat_minor": 2
}
