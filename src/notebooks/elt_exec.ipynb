{
 "cells": [
  {
   "cell_type": "code",
   "execution_count": 2,
   "metadata": {},
   "outputs": [],
   "source": [
    "from tqdm import tqdm\n",
    "\n",
    "from utils.elt_config import (\n",
    "    DataDirectory,\n",
    "    create_all_schemas,\n",
    "    get_all_schemas,\n",
    "    get_cnxn,\n",
    "    get_info_schema_df,\n",
    ")"
   ]
  },
  {
   "cell_type": "code",
   "execution_count": 3,
   "metadata": {},
   "outputs": [
    {
     "data": {
      "text/plain": [
       "<duckdb.duckdb.DuckDBPyConnection at 0x110468830>"
      ]
     },
     "execution_count": 3,
     "metadata": {},
     "output_type": "execute_result"
    }
   ],
   "source": [
    "cnxn = get_cnxn(database=\":memory:\")\n",
    "create_all_schemas(cnxn)"
   ]
  },
  {
   "cell_type": "code",
   "execution_count": 4,
   "metadata": {},
   "outputs": [
    {
     "data": {
      "text/plain": [
       "<duckdb.duckdb.DuckDBPyConnection at 0x110468830>"
      ]
     },
     "execution_count": 4,
     "metadata": {},
     "output_type": "execute_result"
    }
   ],
   "source": [
    "data_dir = DataDirectory()\n",
    "data_dir.queries.load_landing_data(cnxn)"
   ]
  },
  {
   "cell_type": "code",
   "execution_count": 6,
   "metadata": {},
   "outputs": [
    {
     "name": "stdout",
     "output_type": "stream",
     "text": [
      "schemas: ['landing']\n"
     ]
    },
    {
     "data": {
      "text/html": [
       "<div>\n",
       "<style scoped>\n",
       "    .dataframe tbody tr th:only-of-type {\n",
       "        vertical-align: middle;\n",
       "    }\n",
       "\n",
       "    .dataframe tbody tr th {\n",
       "        vertical-align: top;\n",
       "    }\n",
       "\n",
       "    .dataframe thead th {\n",
       "        text-align: right;\n",
       "    }\n",
       "</style>\n",
       "<table border=\"1\" class=\"dataframe\">\n",
       "  <thead>\n",
       "    <tr style=\"text-align: right;\">\n",
       "      <th></th>\n",
       "      <th>schema</th>\n",
       "      <th>name</th>\n",
       "    </tr>\n",
       "  </thead>\n",
       "  <tbody>\n",
       "    <tr>\n",
       "      <th>0</th>\n",
       "      <td>landing</td>\n",
       "      <td>assessments</td>\n",
       "    </tr>\n",
       "    <tr>\n",
       "      <th>1</th>\n",
       "      <td>landing</td>\n",
       "      <td>courses</td>\n",
       "    </tr>\n",
       "    <tr>\n",
       "      <th>2</th>\n",
       "      <td>landing</td>\n",
       "      <td>student_assessment</td>\n",
       "    </tr>\n",
       "    <tr>\n",
       "      <th>3</th>\n",
       "      <td>landing</td>\n",
       "      <td>student_info</td>\n",
       "    </tr>\n",
       "    <tr>\n",
       "      <th>4</th>\n",
       "      <td>landing</td>\n",
       "      <td>student_registration</td>\n",
       "    </tr>\n",
       "    <tr>\n",
       "      <th>5</th>\n",
       "      <td>landing</td>\n",
       "      <td>student_vle</td>\n",
       "    </tr>\n",
       "    <tr>\n",
       "      <th>6</th>\n",
       "      <td>landing</td>\n",
       "      <td>vle</td>\n",
       "    </tr>\n",
       "  </tbody>\n",
       "</table>\n",
       "</div>"
      ],
      "text/plain": [
       "    schema                  name\n",
       "0  landing           assessments\n",
       "1  landing               courses\n",
       "2  landing    student_assessment\n",
       "3  landing          student_info\n",
       "4  landing  student_registration\n",
       "5  landing           student_vle\n",
       "6  landing                   vle"
      ]
     },
     "execution_count": 6,
     "metadata": {},
     "output_type": "execute_result"
    }
   ],
   "source": [
    "info_schema_df = get_info_schema_df(cnxn)\n",
    "schemas = get_all_schemas(info_schema_df)\n",
    "print(\"schemas:\", schemas)\n",
    "info_schema_df.loc[:, [\"schema\", \"name\"]].head(20)"
   ]
  },
  {
   "cell_type": "code",
   "execution_count": 12,
   "metadata": {},
   "outputs": [
    {
     "name": "stderr",
     "output_type": "stream",
     "text": [
      " 10%|█         | 10/100 [00:00<00:00, 1730.11it/s]\n"
     ]
    },
    {
     "ename": "ValueError",
     "evalue": "CREATE in SQL /Users/Fr333y3d3a/repos/master_proj/src/queries/01_main/01_dimensions/final_result.sql",
     "output_type": "error",
     "traceback": [
      "\u001b[0;31m---------------------------------------------------------------------------\u001b[0m",
      "\u001b[0;31mValueError\u001b[0m                                Traceback (most recent call last)",
      "Cell \u001b[0;32mIn[12], line 39\u001b[0m\n\u001b[1;32m     37\u001b[0m \u001b[38;5;28;01mfor\u001b[39;00m cmd \u001b[38;5;129;01min\u001b[39;00m [\u001b[38;5;124m\"\u001b[39m\u001b[38;5;124mCREATE\u001b[39m\u001b[38;5;124m\"\u001b[39m, \u001b[38;5;124m\"\u001b[39m\u001b[38;5;124mDROP\u001b[39m\u001b[38;5;124m\"\u001b[39m, \u001b[38;5;124m\"\u001b[39m\u001b[38;5;124mINTO\u001b[39m\u001b[38;5;124m\"\u001b[39m]:\n\u001b[1;32m     38\u001b[0m     \u001b[38;5;28;01mif\u001b[39;00m cmd \u001b[38;5;129;01min\u001b[39;00m upper:\n\u001b[0;32m---> 39\u001b[0m         \u001b[38;5;28;01mraise\u001b[39;00m \u001b[38;5;167;01mValueError\u001b[39;00m(\u001b[38;5;124mf\u001b[39m\u001b[38;5;124m\"\u001b[39m\u001b[38;5;132;01m{\u001b[39;00mcmd\u001b[38;5;132;01m}\u001b[39;00m\u001b[38;5;124m in SQL \u001b[39m\u001b[38;5;132;01m{\u001b[39;00msql_file\u001b[38;5;241m.\u001b[39mpath\u001b[38;5;132;01m}\u001b[39;00m\u001b[38;5;124m\"\u001b[39m)\n",
      "\u001b[0;31mValueError\u001b[0m: CREATE in SQL /Users/Fr333y3d3a/repos/master_proj/src/queries/01_main/01_dimensions/final_result.sql"
     ]
    }
   ],
   "source": [
    "queries = data_dir.queries\n",
    "\n",
    "for sql_file in tqdm(\n",
    "    sorted(\n",
    "        [x for x in queries.allchildfiles if x.path.suffix == \".sql\"],\n",
    "        key=lambda x: str(x.path.parent),\n",
    "    )\n",
    "):\n",
    "    sql = sql_file.path.read_text()\n",
    "    upper = sql.upper()\n",
    "    for cmd in [\"CREATE\", \"DROP\", \"INTO\"]:\n",
    "        if cmd in upper:\n",
    "            raise ValueError(f\"{cmd} in SQL {sql_file.path}\")\n",
    "    stem_parts = sql_file.path.stem.split(\"_\")\n",
    "    if len(stem_parts) < 2:\n",
    "        raise ValueError(f\"stem {sql_file.path.stem} has less than 2 parts\")\n",
    "    schema = stem_parts[0]\n",
    "    if schema not in schemas:\n",
    "        raise ValueError(f\"schema {schema} not in schemas {schemas}\")\n",
    "    table = \"_\".join(stem_parts[1:])"
   ]
  },
  {
   "cell_type": "code",
   "execution_count": null,
   "metadata": {},
   "outputs": [],
   "source": []
  }
 ],
 "metadata": {
  "kernelspec": {
   "display_name": ".venv",
   "language": "python",
   "name": "python3"
  },
  "language_info": {
   "codemirror_mode": {
    "name": "ipython",
    "version": 3
   },
   "file_extension": ".py",
   "mimetype": "text/x-python",
   "name": "python",
   "nbconvert_exporter": "python",
   "pygments_lexer": "ipython3",
   "version": "3.12.3"
  }
 },
 "nbformat": 4,
 "nbformat_minor": 2
}
