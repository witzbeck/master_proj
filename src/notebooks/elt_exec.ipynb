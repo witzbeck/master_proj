{
 "cells": [
  {
   "cell_type": "code",
   "execution_count": 1,
   "metadata": {},
   "outputs": [],
   "source": [
    "from utils.elt_config import (\n",
    "    DB_PATH,\n",
    "    DataDirectory,\n",
    "    QueriesDirectory,\n",
    "    get_cnxn,\n",
    "    get_info_schema_df,\n",
    "    main,\n",
    ")"
   ]
  },
  {
   "cell_type": "code",
   "execution_count": 2,
   "metadata": {},
   "outputs": [],
   "source": [
    "cnxn = get_cnxn(database=DB_PATH)"
   ]
  },
  {
   "cell_type": "code",
   "execution_count": 3,
   "metadata": {},
   "outputs": [],
   "source": [
    "data_dir = DataDirectory()\n",
    "queries = QueriesDirectory()"
   ]
  },
  {
   "cell_type": "code",
   "execution_count": 4,
   "metadata": {},
   "outputs": [
    {
     "name": "stdout",
     "output_type": "stream",
     "text": [
      "columns: ['database', 'schema', 'name', 'column_names', 'column_types', 'temporary']\n"
     ]
    },
    {
     "data": {
      "text/plain": [
       "schema\n",
       "agg        22\n",
       "feat        2\n",
       "landing     7\n",
       "main       27\n",
       "dtype: int64"
      ]
     },
     "execution_count": 4,
     "metadata": {},
     "output_type": "execute_result"
    }
   ],
   "source": [
    "info_schema_df = get_info_schema_df(cnxn)\n",
    "# print(\"schemas:\", SCHEMAS)\n",
    "print(\"columns:\", list(info_schema_df.columns))\n",
    "info_schema_df.groupby(\"schema\").size()"
   ]
  },
  {
   "cell_type": "code",
   "execution_count": 5,
   "metadata": {},
   "outputs": [
    {
     "data": {
      "text/html": [
       "<div>\n",
       "<style scoped>\n",
       "    .dataframe tbody tr th:only-of-type {\n",
       "        vertical-align: middle;\n",
       "    }\n",
       "\n",
       "    .dataframe tbody tr th {\n",
       "        vertical-align: top;\n",
       "    }\n",
       "\n",
       "    .dataframe thead th {\n",
       "        text-align: right;\n",
       "    }\n",
       "</style>\n",
       "<table border=\"1\" class=\"dataframe\">\n",
       "  <thead>\n",
       "    <tr style=\"text-align: right;\">\n",
       "      <th></th>\n",
       "      <th>name</th>\n",
       "      <th>column_names</th>\n",
       "    </tr>\n",
       "  </thead>\n",
       "  <tbody>\n",
       "    <tr>\n",
       "      <th>31</th>\n",
       "      <td>activity_type</td>\n",
       "      <td>[id, activity_type]</td>\n",
       "    </tr>\n",
       "    <tr>\n",
       "      <th>32</th>\n",
       "      <td>age_band</td>\n",
       "      <td>[id, age_band]</td>\n",
       "    </tr>\n",
       "    <tr>\n",
       "      <th>33</th>\n",
       "      <td>assessment</td>\n",
       "      <td>[assessment_id, course_id, module_id, presenta...</td>\n",
       "    </tr>\n",
       "    <tr>\n",
       "      <th>34</th>\n",
       "      <td>assessment_staging</td>\n",
       "      <td>[student_id, course_id, assessment_id, date_su...</td>\n",
       "    </tr>\n",
       "    <tr>\n",
       "      <th>35</th>\n",
       "      <td>assessment_type</td>\n",
       "      <td>[id, assessment_type]</td>\n",
       "    </tr>\n",
       "    <tr>\n",
       "      <th>36</th>\n",
       "      <td>course_assessments</td>\n",
       "      <td>[assessment_id, module_id, presentation_id, as...</td>\n",
       "    </tr>\n",
       "    <tr>\n",
       "      <th>37</th>\n",
       "      <td>course_info</td>\n",
       "      <td>[id, module_id, presentation_id, module_code, ...</td>\n",
       "    </tr>\n",
       "    <tr>\n",
       "      <th>38</th>\n",
       "      <td>course_registrations</td>\n",
       "      <td>[student_id, course_id, final_result_id, date_...</td>\n",
       "    </tr>\n",
       "    <tr>\n",
       "      <th>39</th>\n",
       "      <td>final_result</td>\n",
       "      <td>[id, final_result]</td>\n",
       "    </tr>\n",
       "    <tr>\n",
       "      <th>40</th>\n",
       "      <td>highest_education</td>\n",
       "      <td>[id, highest_education]</td>\n",
       "    </tr>\n",
       "    <tr>\n",
       "      <th>41</th>\n",
       "      <td>imd_band</td>\n",
       "      <td>[id, imd_band]</td>\n",
       "    </tr>\n",
       "    <tr>\n",
       "      <th>42</th>\n",
       "      <td>module</td>\n",
       "      <td>[id, module_code]</td>\n",
       "    </tr>\n",
       "    <tr>\n",
       "      <th>43</th>\n",
       "      <td>onehot_activity_type</td>\n",
       "      <td>[id, is_dataplus, is_dualpane, is_externalquiz...</td>\n",
       "    </tr>\n",
       "    <tr>\n",
       "      <th>44</th>\n",
       "      <td>onehot_age_band</td>\n",
       "      <td>[id, is_le_35, is_35_55, is_ge_55, age_band]</td>\n",
       "    </tr>\n",
       "    <tr>\n",
       "      <th>45</th>\n",
       "      <td>onehot_final_result</td>\n",
       "      <td>[id, is_distinction, is_fail, is_pass, is_with...</td>\n",
       "    </tr>\n",
       "    <tr>\n",
       "      <th>46</th>\n",
       "      <td>onehot_highest_education</td>\n",
       "      <td>[id, is_no_formal_quals, is_lower_than_a_level...</td>\n",
       "    </tr>\n",
       "    <tr>\n",
       "      <th>47</th>\n",
       "      <td>onehot_imd_band</td>\n",
       "      <td>[id, imd_band_00_10, imd_band_10_20, imd_band_...</td>\n",
       "    </tr>\n",
       "    <tr>\n",
       "      <th>48</th>\n",
       "      <td>onehot_region</td>\n",
       "      <td>[id, is_east_anglian, is_east_midlands, is_ire...</td>\n",
       "    </tr>\n",
       "    <tr>\n",
       "      <th>49</th>\n",
       "      <td>presentation</td>\n",
       "      <td>[id, presentation_code]</td>\n",
       "    </tr>\n",
       "    <tr>\n",
       "      <th>50</th>\n",
       "      <td>region</td>\n",
       "      <td>[id, region]</td>\n",
       "    </tr>\n",
       "  </tbody>\n",
       "</table>\n",
       "</div>"
      ],
      "text/plain": [
       "                        name  \\\n",
       "31             activity_type   \n",
       "32                  age_band   \n",
       "33                assessment   \n",
       "34        assessment_staging   \n",
       "35           assessment_type   \n",
       "36        course_assessments   \n",
       "37               course_info   \n",
       "38      course_registrations   \n",
       "39              final_result   \n",
       "40         highest_education   \n",
       "41                  imd_band   \n",
       "42                    module   \n",
       "43      onehot_activity_type   \n",
       "44           onehot_age_band   \n",
       "45       onehot_final_result   \n",
       "46  onehot_highest_education   \n",
       "47           onehot_imd_band   \n",
       "48             onehot_region   \n",
       "49              presentation   \n",
       "50                    region   \n",
       "\n",
       "                                         column_names  \n",
       "31                                [id, activity_type]  \n",
       "32                                     [id, age_band]  \n",
       "33  [assessment_id, course_id, module_id, presenta...  \n",
       "34  [student_id, course_id, assessment_id, date_su...  \n",
       "35                              [id, assessment_type]  \n",
       "36  [assessment_id, module_id, presentation_id, as...  \n",
       "37  [id, module_id, presentation_id, module_code, ...  \n",
       "38  [student_id, course_id, final_result_id, date_...  \n",
       "39                                 [id, final_result]  \n",
       "40                            [id, highest_education]  \n",
       "41                                     [id, imd_band]  \n",
       "42                                  [id, module_code]  \n",
       "43  [id, is_dataplus, is_dualpane, is_externalquiz...  \n",
       "44       [id, is_le_35, is_35_55, is_ge_55, age_band]  \n",
       "45  [id, is_distinction, is_fail, is_pass, is_with...  \n",
       "46  [id, is_no_formal_quals, is_lower_than_a_level...  \n",
       "47  [id, imd_band_00_10, imd_band_10_20, imd_band_...  \n",
       "48  [id, is_east_anglian, is_east_midlands, is_ire...  \n",
       "49                            [id, presentation_code]  \n",
       "50                                       [id, region]  "
      ]
     },
     "execution_count": 5,
     "metadata": {},
     "output_type": "execute_result"
    }
   ],
   "source": [
    "info_schema_df.loc[info_schema_df[\"schema\"] == \"main\", [\"name\", \"column_names\"]].head(\n",
    "    20\n",
    ")"
   ]
  },
  {
   "cell_type": "code",
   "execution_count": 6,
   "metadata": {},
   "outputs": [
    {
     "name": "stdout",
     "output_type": "stream",
     "text": [
      "Connection & schemas took 0.0 ns\n"
     ]
    },
    {
     "name": "stderr",
     "output_type": "stream",
     "text": [
      "Creating schemas: 100%|██████████| 7/7 [00:00<00:00, 1414.67it/s]\n"
     ]
    },
    {
     "name": "stdout",
     "output_type": "stream",
     "text": [
      "Landing data took 0.0 ns\n"
     ]
    },
    {
     "name": "stderr",
     "output_type": "stream",
     "text": [
      "  7%|▋         | 11/149 [00:00<00:01, 73.25it/s]"
     ]
    },
    {
     "name": "stdout",
     "output_type": "stream",
     "text": [
      "Creating main.age_band from 01_main/00_dimensions/main_age_band.sql... main.age_band took 0.351 sec\n",
      "Creating main.activity_type from 01_main/00_dimensions/main_activity_type.sql... main.activity_type took 0.382 sec\n",
      "Creating main.presentation from 01_main/00_dimensions/main_presentation.sql... main.presentation took 0.388 sec\n",
      "Creating main.imd_band from 01_main/00_dimensions/main_imd_band.sql... main.imd_band took 0.393 sec\n",
      "Creating main.region from 01_main/00_dimensions/main_region.sql... main.region took 0.4 sec\n",
      "Creating main.final_result from 01_main/00_dimensions/main_final_result.sql... main.final_result took 0.407 sec\n",
      "Creating main.assessment_type from 01_main/00_dimensions/main_assessment_type.sql... main.assessment_type took 0.412 sec\n",
      "Creating main.highest_education from 01_main/00_dimensions/main_highest_education.sql... main.highest_education took 0.416 sec\n",
      "Creating main.module from 01_main/00_dimensions/main_module.sql... main.module took 0.421 sec\n",
      "Creating main.course_info from 01_main/01_dimensions/main_course_info.sql... main.course_info took 0.425 sec\n",
      "Creating main.student_info from 01_main/02_facts/main_student_info.sql... main.student_info took 0.433 sec\n",
      "Creating main.assessment from 01_main/02_facts/main_assessment.sql... main.assessment took 0.517 sec\n",
      "Creating main.student_assessment_bridge from 01_main/03_bridges/main_student_assessment_bridge.sql... main.student_assessment_bridge took 0.521 sec\n",
      "Creating main.course_assessments from 01_main/03_bridges/main_course_assessments.sql... main.course_assessments took 0.571 sec\n",
      "Creating main.student_vle_bridge from 01_main/03_bridges/main_student_vle_bridge.sql... main.student_vle_bridge took 0.575 sec\n",
      "Creating main.vle_course_bridge from 01_main/03_bridges/main_vle_course_bridge.sql... main.vle_course_bridge took 1.489 sec\n",
      "Creating main.vle_activities from 01_main/04_derived/main_vle_activities.sql... main.vle_activities took 1.497 sec\n",
      "Creating main.onehot_highest_education from 01_main/04_derived/main_onehot_highest_education.sql... main.onehot_highest_education took 3.664 sec\n",
      "Creating main.student_interactions_by_assessments from 01_main/04_derived/main_student_interactions_by_assessments.sql... "
     ]
    },
    {
     "name": "stderr",
     "output_type": "stream",
     "text": [
      " 15%|█▌        | 23/149 [00:05<00:29,  4.23it/s]"
     ]
    },
    {
     "name": "stdout",
     "output_type": "stream",
     "text": [
      "main.student_interactions_by_assessments took 3.667 sec\n",
      "Creating main.onehot_activity_type from 01_main/04_derived/main_onehot_activity_type.sql... main.onehot_activity_type took 5.276 sec\n",
      "Creating main.student_grades from 01_main/04_derived/main_student_grades.sql... main.student_grades took 5.282 sec\n",
      "Creating main.onehot_imd_band from 01_main/04_derived/main_onehot_imd_band.sql... main.onehot_imd_band took 5.352 sec\n",
      "Creating main.assessment_staging from 01_main/04_derived/main_assessment_staging.sql... main.assessment_staging took 5.354 sec\n",
      "Creating main.onehot_final_result from 01_main/04_derived/main_onehot_final_result.sql... main.onehot_final_result took 5.411 sec\n",
      "Creating main.onehot_age_band from 01_main/04_derived/main_onehot_age_band.sql... main.onehot_age_band took 5.415 sec\n",
      "Creating main.onehot_region from 01_main/04_derived/main_onehot_region.sql... main.onehot_region took 5.417 sec\n",
      "Creating main.course_registrations from 01_main/04_derived/main_course_registrations.sql... main.course_registrations took 5.419 sec\n",
      "Creating agg.interaction_types_staging from 02_agg/00_00_base/agg_interaction_types_staging.sql... "
     ]
    },
    {
     "name": "stderr",
     "output_type": "stream",
     "text": [
      " 19%|█▉        | 28/149 [00:07<00:37,  3.19it/s]"
     ]
    },
    {
     "name": "stdout",
     "output_type": "stream",
     "text": [
      "agg.interaction_types_staging took 5.487 sec\n",
      "Creating agg.assessment_weights from 02_agg/00_00_base/agg_assessment_weights.sql... agg.assessment_weights took 7.793 sec\n",
      "Creating agg.course_student_bands_results from 02_agg/00_00_base/agg_course_student_bands_results.sql... agg.course_student_bands_results took 7.799 sec\n",
      "Creating agg.course_info from 02_agg/00_00_base/agg_course_info.sql... agg.course_info took 7.816 sec\n",
      "Creating agg.activity_interaction_percentiles from 02_agg/00_00_base/agg_activity_interaction_percentiles.sql... "
     ]
    },
    {
     "name": "stderr",
     "output_type": "stream",
     "text": [
      " 21%|██▏       | 32/149 [00:07<00:28,  4.06it/s]"
     ]
    },
    {
     "name": "stdout",
     "output_type": "stream",
     "text": [
      "agg.activity_interaction_percentiles took 7.82 sec\n",
      "Creating agg.course_reg_results from 02_agg/00_00_base/agg_course_reg_results.sql... agg.course_reg_results took 8.044 sec\n",
      "Creating agg.assessment_staging from 02_agg/00_00_base/agg_assessment_staging.sql... "
     ]
    },
    {
     "name": "stderr",
     "output_type": "stream",
     "text": [
      " 24%|██▍       | 36/149 [00:08<00:23,  4.81it/s]"
     ]
    },
    {
     "name": "stdout",
     "output_type": "stream",
     "text": [
      "agg.assessment_staging took 8.084 sec\n",
      "Creating agg.running_assessment_score from 02_agg/01_00_derivative/agg_running_assessment_score.sql... agg.running_assessment_score took 8.4 sec\n",
      "skipping 02_agg/01_00_derivative/_agg_mean_prod_consec_days.sql\n",
      "Creating agg.mom_assessments_12 from 02_agg/01_00_derivative/agg_mom_assessments_12.sql... "
     ]
    },
    {
     "name": "stderr",
     "output_type": "stream",
     "text": [
      " 25%|██▍       | 37/149 [00:08<00:24,  4.49it/s]\n"
     ]
    },
    {
     "name": "stdout",
     "output_type": "stream",
     "text": [
      "agg.mom_assessments_12 took 8.58 sec\n",
      "Creating agg.student_grades from 02_agg/01_00_derivative/agg_student_grades.sql... "
     ]
    },
    {
     "ename": "BinderException",
     "evalue": "Binder Error: Table \"s\" does not have a column named \"weight\"\nLINE 2:     sum(s.weight) sum_weight,\n                ^",
     "output_type": "error",
     "traceback": [
      "\u001b[0;31m---------------------------------------------------------------------------\u001b[0m",
      "\u001b[0;31mBinderException\u001b[0m                           Traceback (most recent call last)",
      "Cell \u001b[0;32mIn[6], line 1\u001b[0m\n\u001b[0;32m----> 1\u001b[0m \u001b[43mmain\u001b[49m\u001b[43m(\u001b[49m\u001b[43m)\u001b[49m\n",
      "File \u001b[0;32m~/repos/master_proj/src/utils/elt_config.py:252\u001b[0m, in \u001b[0;36mmain\u001b[0;34m(timer, replace)\u001b[0m\n\u001b[1;32m    245\u001b[0m     sql \u001b[38;5;241m=\u001b[39m get_create_object_command(\n\u001b[1;32m    246\u001b[0m         schema, table_name, query_path\u001b[38;5;241m.\u001b[39mread_text(), orreplace\u001b[38;5;241m=\u001b[39mreplace\n\u001b[1;32m    247\u001b[0m     )\n\u001b[1;32m    248\u001b[0m     \u001b[38;5;28mprint\u001b[39m(\n\u001b[1;32m    249\u001b[0m         \u001b[38;5;124mf\u001b[39m\u001b[38;5;124m\"\u001b[39m\u001b[38;5;124mCreating \u001b[39m\u001b[38;5;132;01m{\u001b[39;00mschema\u001b[38;5;132;01m}\u001b[39;00m\u001b[38;5;124m.\u001b[39m\u001b[38;5;132;01m{\u001b[39;00mtable_name\u001b[38;5;132;01m}\u001b[39;00m\u001b[38;5;124m from \u001b[39m\u001b[38;5;132;01m{\u001b[39;00m\u001b[38;5;124m\"\u001b[39m\u001b[38;5;124m/\u001b[39m\u001b[38;5;124m\"\u001b[39m\u001b[38;5;241m.\u001b[39mjoin(query_path\u001b[38;5;241m.\u001b[39mparts[\u001b[38;5;241m-\u001b[39m\u001b[38;5;241m3\u001b[39m:])\u001b[38;5;132;01m}\u001b[39;00m\u001b[38;5;124m\"\u001b[39m,\n\u001b[1;32m    250\u001b[0m         end\u001b[38;5;241m=\u001b[39m\u001b[38;5;124m\"\u001b[39m\u001b[38;5;124m... \u001b[39m\u001b[38;5;124m\"\u001b[39m,\n\u001b[1;32m    251\u001b[0m     )\n\u001b[0;32m--> 252\u001b[0m     \u001b[43mcnxn\u001b[49m\u001b[38;5;241;43m.\u001b[39;49m\u001b[43mexecute\u001b[49m\u001b[43m(\u001b[49m\u001b[43msql\u001b[49m\u001b[43m)\u001b[49m\n\u001b[1;32m    253\u001b[0m     timer\u001b[38;5;241m.\u001b[39mlog_from_start(\u001b[38;5;124mf\u001b[39m\u001b[38;5;124m\"\u001b[39m\u001b[38;5;132;01m{\u001b[39;00mschema\u001b[38;5;132;01m}\u001b[39;00m\u001b[38;5;124m.\u001b[39m\u001b[38;5;132;01m{\u001b[39;00mtable_name\u001b[38;5;132;01m}\u001b[39;00m\u001b[38;5;124m\"\u001b[39m)\n\u001b[1;32m    255\u001b[0m \u001b[38;5;66;03m# Export database\u001b[39;00m\n",
      "\u001b[0;31mBinderException\u001b[0m: Binder Error: Table \"s\" does not have a column named \"weight\"\nLINE 2:     sum(s.weight) sum_weight,\n                ^"
     ]
    }
   ],
   "source": [
    "main()"
   ]
  },
  {
   "cell_type": "code",
   "execution_count": null,
   "metadata": {},
   "outputs": [],
   "source": []
  }
 ],
 "metadata": {
  "kernelspec": {
   "display_name": ".venv",
   "language": "python",
   "name": "python3"
  },
  "language_info": {
   "codemirror_mode": {
    "name": "ipython",
    "version": 3
   },
   "file_extension": ".py",
   "mimetype": "text/x-python",
   "name": "python",
   "nbconvert_exporter": "python",
   "pygments_lexer": "ipython3",
   "version": "3.13.0"
  }
 },
 "nbformat": 4,
 "nbformat_minor": 2
}
