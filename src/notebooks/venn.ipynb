{
 "cells": [
  {
   "cell_type": "code",
   "execution_count": 1,
   "metadata": {},
   "outputs": [],
   "source": [
    "from matplotlib import pyplot as plt\n",
    "from matplotlib_venn import venn3\n",
    "\n",
    "from utils.get_figures import get_edm_venn"
   ]
  },
  {
   "cell_type": "code",
   "execution_count": 2,
   "metadata": {},
   "outputs": [],
   "source": [
    "FIGSIZE = (10, 10)\n",
    "CENTER_SIZE = 8\n",
    "SIDES_SIZE = 8\n",
    "SETS_SIZE = 6\n",
    "SET_LABELS = [\n",
    "    \"Computer Science\",\n",
    "    \"Education\",\n",
    "    \"Statistics\",\n",
    "]\n",
    "SUBSET_LABELS = [\n",
    "    \"Computer\\nScience\",  # CS\n",
    "    \"Education\",  # Ed\n",
    "    \"Computer-Based\\nLearning\",\n",
    "    \"Statistics\",  # Stats\n",
    "    \"Data Mining\\nMachine Learning\",\n",
    "    \"Educational\\nStatistics\",\n",
    "    \"Educational Data Mining\\nLearning Analytics\",\n",
    "]\n",
    "SUBSETS = [\n",
    "    SETS_SIZE,  # CS\n",
    "    SETS_SIZE,  # Ed\n",
    "    SIDES_SIZE,  # CBL\n",
    "    SETS_SIZE,  # Stats\n",
    "    SIDES_SIZE,  # DM/ML\n",
    "    SIDES_SIZE,  # EdStats\n",
    "    CENTER_SIZE,  # EDM/LA\n",
    "]\n",
    "SUBSETS = [x * 10 for x in SUBSETS]"
   ]
  },
  {
   "cell_type": "code",
   "execution_count": null,
   "metadata": {},
   "outputs": [],
   "source": [
    "fig, ax = plt.subplots(figsize=FIGSIZE, dpi=500)\n",
    "v = venn3(subsets=SUBSETS, set_labels=None, ax=ax)\n",
    "for name, label in zip(SUBSET_LABELS, v.subset_labels, strict=False):\n",
    "    label.set_text(name)"
   ]
  },
  {
   "cell_type": "code",
   "execution_count": null,
   "metadata": {},
   "outputs": [],
   "source": [
    "get_edm_venn()"
   ]
  }
 ],
 "metadata": {
  "kernelspec": {
   "display_name": ".venv",
   "language": "python",
   "name": "python3"
  },
  "language_info": {
   "codemirror_mode": {
    "name": "ipython",
    "version": 3
   },
   "file_extension": ".py",
   "mimetype": "text/x-python",
   "name": "python",
   "nbconvert_exporter": "python",
   "pygments_lexer": "ipython3",
   "version": "3.12.3"
  }
 },
 "nbformat": 4,
 "nbformat_minor": 2
}
