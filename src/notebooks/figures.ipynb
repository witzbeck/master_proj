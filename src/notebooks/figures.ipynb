{
 "cells": [
  {
   "cell_type": "code",
   "execution_count": 1,
   "metadata": {},
   "outputs": [],
   "source": [
    "from pathlib import Path\n",
    "\n",
    "import pymupdf\n",
    "from pymupdf import IRect, Page, Rect, open\n",
    "\n",
    "from utils.get_figures import GENERATED_FIGURES_PATH, PresentationFigures"
   ]
  },
  {
   "cell_type": "code",
   "execution_count": 2,
   "metadata": {},
   "outputs": [
    {
     "data": {
      "text/plain": [
       "PosixPath('/Users/Fr333y3d3a/repos/master_proj/research/presentation/AutoML Feature Engineering for Student Modeling Yields High Accuracy, but Limited Interpretability.pdf')"
      ]
     },
     "execution_count": 2,
     "metadata": {},
     "output_type": "execute_result"
    }
   ],
   "source": [
    "src = PresentationFigures.AUTOML_FEATURE_ENGINEERING.value\n",
    "source_file = src.source_file\n",
    "source_file"
   ]
  },
  {
   "cell_type": "code",
   "execution_count": 3,
   "metadata": {},
   "outputs": [],
   "source": [
    "DPI = 500\n",
    "PAGE_NUMBER = 18\n",
    "PAGE_INDEX = PAGE_NUMBER - 1\n",
    "X_PERC = 0.9\n",
    "Y_PERC = 0.15"
   ]
  },
  {
   "cell_type": "code",
   "execution_count": 4,
   "metadata": {},
   "outputs": [
    {
     "name": "stdout",
     "output_type": "stream",
     "text": [
      "(0, 0, 4250, 5500)\n"
     ]
    }
   ],
   "source": [
    "def get_page_from_file(source_file: Path = source_file, page_number: int = PAGE_NUMBER):\n",
    "    doc = open(str(source_file))  # open a document\n",
    "    page = doc[page_number - 1]\n",
    "    return page\n",
    "\n",
    "\n",
    "page = get_page_from_file(source_file, PAGE_NUMBER)\n",
    "\n",
    "\n",
    "def get_page_irect(page: Page, dpi: int = DPI) -> Rect:\n",
    "    return page.get_pixmap(dpi=dpi).irect\n",
    "\n",
    "\n",
    "page_irect = get_page_irect(page)\n",
    "print(page_irect)"
   ]
  },
  {
   "cell_type": "code",
   "execution_count": 5,
   "metadata": {},
   "outputs": [
    {
     "name": "stdout",
     "output_type": "stream",
     "text": [
      "(0, 0, 4250, 5500)\n",
      "IRect(212, 0, 4037, 825)\n"
     ]
    }
   ],
   "source": [
    "def get_page_xy_centers(page_irect: Rect) -> tuple[int, int]:\n",
    "    x0, y0, x1, y1 = page_irect\n",
    "    return int((x1 - x0) // 2), int((y1 - y0) // 2)\n",
    "\n",
    "\n",
    "def get_xy_center_pixel_range(\n",
    "    page_irect: Rect, x_perc: float = X_PERC, y_perc: float = Y_PERC\n",
    ") -> tuple[int, int]:\n",
    "    x0, y0, x1, y1 = page_irect\n",
    "    x_dif, y_dif = x1 - x0, y1 - y0\n",
    "    x_final_pixels = (x_dif / 2) * x_perc\n",
    "    y_final_pixels = y_dif * y_perc\n",
    "    x_center, _ = get_page_xy_centers(page_irect)\n",
    "    x_start, x_end = x_center - x_final_pixels, x_center + x_final_pixels\n",
    "    return int(x_start), int(y0), int(x_end), int(y_final_pixels)\n",
    "\n",
    "\n",
    "print(page_irect)\n",
    "x0, y0, x1, y1 = get_xy_center_pixel_range(page_irect)\n",
    "irect = pymupdf.IRect(x0=x0, y0=y0, x1=x1, y1=y1)\n",
    "print(irect)"
   ]
  },
  {
   "cell_type": "code",
   "execution_count": 7,
   "metadata": {},
   "outputs": [],
   "source": [
    "def save_figure_from_page(\n",
    "    source_file: Path = source_file,\n",
    "    target_path: Path = GENERATED_FIGURES_PATH / src.filename,\n",
    "    page_number: int = PAGE_NUMBER,\n",
    "    dpi: int = DPI,\n",
    "    top_left: tuple[int, int] = (75, 50),\n",
    "    bot_right: tuple[int, int] = (550, 325),\n",
    "):\n",
    "    irect = IRect(top_left, bot_right)\n",
    "    page = get_page_from_file(source_file, page_number)\n",
    "    pix = page.get_pixmap(dpi=dpi, clip=irect)  # create a Pixmap\n",
    "    pix.save(target_path)  # save the image as png\n",
    "\n",
    "\n",
    "save_figure_from_page()"
   ]
  }
 ],
 "metadata": {
  "kernelspec": {
   "display_name": ".venv",
   "language": "python",
   "name": "python3"
  },
  "language_info": {
   "codemirror_mode": {
    "name": "ipython",
    "version": 3
   },
   "file_extension": ".py",
   "mimetype": "text/x-python",
   "name": "python",
   "nbconvert_exporter": "python",
   "pygments_lexer": "ipython3",
   "version": "3.12.3"
  }
 },
 "nbformat": 4,
 "nbformat_minor": 2
}
